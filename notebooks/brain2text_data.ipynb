{
 "cells": [
  {
   "cell_type": "code",
   "execution_count": null,
   "id": "1a278a42-698f-445e-a0fc-86ddbb307be2",
   "metadata": {
    "tags": []
   },
   "outputs": [],
   "source": [
    "%load_ext autoreload\n",
    "%autoreload 2"
   ]
  },
  {
   "cell_type": "code",
   "execution_count": null,
   "id": "88611172-2c06-42a8-bcf2-901ff388eb43",
   "metadata": {
    "tags": []
   },
   "outputs": [],
   "source": [
    "import scipy.io\n",
    "import numpy as np\n",
    "import matplotlib.pyplot as plt\n",
    "import glob"
   ]
  },
  {
   "cell_type": "markdown",
   "id": "3f18c194-68e5-437b-bd6b-81e859a8eed5",
   "metadata": {},
   "source": [
    "## Downloading the data"
   ]
  },
  {
   "cell_type": "code",
   "execution_count": null,
   "id": "54c09be7-6fa0-4047-ab2f-f8991e96c528",
   "metadata": {
    "tags": []
   },
   "outputs": [],
   "source": [
    "# download data from this link: https://datadryad.org/stash/dataset/doi:10.5061/dryad.x69p8czpq"
   ]
  },
  {
   "cell_type": "markdown",
   "id": "60284eba-81d7-4558-ac56-609db375749a",
   "metadata": {},
   "source": [
    "## Loading the data"
   ]
  },
  {
   "cell_type": "code",
   "execution_count": null,
   "id": "1c99f7d7-0314-4c3d-95f1-5fae6eac9abd",
   "metadata": {
    "tags": []
   },
   "outputs": [],
   "source": [
    "import os\n",
    "\n",
    "data_dir = '/Users/colehurwitz/Downloads/doi_10.5061_dryad.x69p8czpq__v9'\n",
    "\n",
    "#choose input data to model (tx1 most promising starting feature)\n",
    "feature = 'tx1'\n",
    "\n",
    "#load train data\n",
    "train_dir = data_dir + '/competitionData/train/*'\n",
    "all_train_files = glob.glob(train_dir)\n",
    "x_train = []\n",
    "y_train = []\n",
    "for train_file in all_train_files:\n",
    "    train_data = scipy.io.loadmat(train_file)\n",
    "    x = train_data[feature][0]\n",
    "    y = train_data['sentenceText']\n",
    "    x_train.append(x)\n",
    "    y_train.append(y)\n",
    "x_train = np.concatenate(x_train)\n",
    "y_train = np.concatenate(y_train)\n",
    "\n",
    "#load test data\n",
    "test_dir = data_dir + '/competitionData/test/*'\n",
    "all_test_files = glob.glob(test_dir)\n",
    "x_test = []\n",
    "y_test = []\n",
    "for test_file in all_test_files:\n",
    "    test_data = scipy.io.loadmat(test_file)\n",
    "    x = test_data[feature][0]\n",
    "    y = test_data['sentenceText']\n",
    "    x_test.append(x)\n",
    "    y_test.append(y)\n",
    "x_test = np.concatenate(x_test)\n",
    "y_test = np.concatenate(y_test)\n",
    "    \n",
    "#load heldout data - no labels (this is the competition!)\n",
    "heldout_dir = data_dir + '/competitionData/competitionHoldOut/*'\n",
    "all_heldout_files = glob.glob(heldout_dir)\n",
    "x_heldout = []\n",
    "for heldout_file in all_heldout_files:\n",
    "    heldout_data = scipy.io.loadmat(heldout_file)\n",
    "    x = heldout_data[feature][0]\n",
    "    x_heldout.append(x)\n",
    "x_heldout = np.concatenate(x_heldout)"
   ]
  },
  {
   "cell_type": "code",
   "execution_count": null,
   "id": "ff51e134-ee3a-4475-bad7-c0ad1bfe4330",
   "metadata": {
    "tags": []
   },
   "outputs": [],
   "source": [
    "print(\"num train: \", x_train.shape)\n",
    "print(\"x_0 shape:\", x_train[0].shape, \"| y_0:\", y_train[0])\n",
    "print(\"x_1 shape:\", x_train[1].shape, \"| y_1:\", y_train[1])"
   ]
  },
  {
   "cell_type": "code",
   "execution_count": null,
   "id": "518ad3fc-23bd-4fe2-8ee4-fd139944d958",
   "metadata": {
    "tags": []
   },
   "outputs": [],
   "source": [
    "print(\"num test: \", x_test.shape)\n",
    "print(\"x_0 shape:\", x_test[0].shape, \"| y_0:\", y_test[0])\n",
    "print(\"x_1 shape:\", x_test[1].shape, \"| y_1:\", y_test[1])"
   ]
  },
  {
   "cell_type": "code",
   "execution_count": null,
   "id": "e9f4cd96-bd41-4ccc-ac3b-b5ee4720581a",
   "metadata": {
    "tags": []
   },
   "outputs": [],
   "source": [
    "print(\"num heldout: \", x_heldout.shape)\n",
    "print(\"x_0 shape:\", x_heldout[0].shape, \"| y_0:\", \"N/A\")\n",
    "print(\"x_1 shape:\", x_heldout[1].shape, \"| y_1:\", \"N/A\")"
   ]
  },
  {
   "cell_type": "markdown",
   "id": "cfe3aa22-08d4-45f9-8189-bbb3e66e7487",
   "metadata": {},
   "source": [
    "## Visualizing the data"
   ]
  },
  {
   "cell_type": "code",
   "execution_count": null,
   "id": "f8ac8393-8891-4d2c-9e4d-c6ba9d56b40c",
   "metadata": {
    "tags": []
   },
   "outputs": [],
   "source": [
    "data_id = 0\n",
    "\n",
    "plt.imshow(x_train[data_id].T)\n",
    "plt.xlabel(\"Time\")\n",
    "plt.ylabel(\"Channel\")\n",
    "print(\"x: \", x_train[data_id].T.shape)\n",
    "print(\"y:\", y_train[data_id])\n",
    "plt.show()\n",
    "\n",
    "plt.hist(x_train[data_id].flatten())\n",
    "plt.ylabel('frequency')\n",
    "plt.xlabel('activity');"
   ]
  }
 ],
 "metadata": {
  "kernelspec": {
   "display_name": "Python 3 (ipykernel)",
   "language": "python",
   "name": "python3"
  },
  "language_info": {
   "codemirror_mode": {
    "name": "ipython",
    "version": 3
   },
   "file_extension": ".py",
   "mimetype": "text/x-python",
   "name": "python",
   "nbconvert_exporter": "python",
   "pygments_lexer": "ipython3",
   "version": "3.10.10"
  }
 },
 "nbformat": 4,
 "nbformat_minor": 5
}
